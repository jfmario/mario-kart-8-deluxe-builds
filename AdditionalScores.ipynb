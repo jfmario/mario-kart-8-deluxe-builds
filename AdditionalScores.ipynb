{
 "cells": [
  {
   "cell_type": "code",
   "execution_count": null,
   "metadata": {},
   "outputs": [],
   "source": [
    "import pandas"
   ]
  },
  {
   "cell_type": "code",
   "execution_count": null,
   "metadata": {},
   "outputs": [],
   "source": [
    "combos = pandas.read_csv('output/COMBOS.csv', index_col=0)"
   ]
  },
  {
   "cell_type": "code",
   "execution_count": null,
   "metadata": {},
   "outputs": [],
   "source": [
    "data_columns = list(combos.columns[4:-1])\n",
    "data_columns"
   ]
  },
  {
   "cell_type": "code",
   "execution_count": null,
   "metadata": {},
   "outputs": [],
   "source": [
    "combos['Balance'] = combos.apply(lambda r: 5.0 - r[data_columns].std(), axis=1)"
   ]
  },
  {
   "cell_type": "code",
   "execution_count": null,
   "metadata": {},
   "outputs": [],
   "source": [
    "combos['AverageSpeed'] = combos.apply(lambda r: (r.GroundSpeed + r.WaterSpeed + r.AirSpeed + r.AntiGravitySpeed) / 4.0, axis=1)"
   ]
  },
  {
   "cell_type": "code",
   "execution_count": null,
   "metadata": {},
   "outputs": [],
   "source": [
    "combos['WeightedSpeed'] = combos.apply(lambda r: (r.GroundSpeed * 4 + r.WaterSpeed * 2 + r.AirSpeed + r.AntiGravitySpeed * 3) / 10.0, axis=1)"
   ]
  },
  {
   "cell_type": "code",
   "execution_count": null,
   "metadata": {},
   "outputs": [],
   "source": [
    "combos['AverageHandling'] = combos.apply(lambda r: (r.GroundHandling + r.WaterHandling + r.AirHandling + r.AntiGravityHandling) / 4.0, axis=1)"
   ]
  },
  {
   "cell_type": "code",
   "execution_count": null,
   "metadata": {},
   "outputs": [],
   "source": [
    "combos['WeightedHandling'] = combos.apply(lambda r: (r.GroundHandling * 4 + r.WaterHandling * 2  + r.AirHandling + r.AntiGravityHandling * 3) / 10.0, axis=1)"
   ]
  },
  {
   "cell_type": "code",
   "execution_count": null,
   "metadata": {},
   "outputs": [],
   "source": [
    "combos['GroundMastery'] = combos.apply(lambda r: (r.GroundSpeed + r.GroundHandling) / 2.0, axis=1)"
   ]
  },
  {
   "cell_type": "code",
   "execution_count": null,
   "metadata": {},
   "outputs": [],
   "source": [
    "combos['WaterMastery'] = combos.apply(lambda r: (r.WaterSpeed + r.WaterHandling) / 2.0, axis=1)"
   ]
  },
  {
   "cell_type": "code",
   "execution_count": null,
   "metadata": {},
   "outputs": [],
   "source": [
    "combos['AirMastery'] = combos.apply(lambda r: (r.AirSpeed + r.AirHandling) / 2.0, axis=1)"
   ]
  },
  {
   "cell_type": "code",
   "execution_count": null,
   "metadata": {},
   "outputs": [],
   "source": [
    "combos['AntiGravityMastery'] = combos.apply(lambda r: (r.AntiGravitySpeed + r.AntiGravityHandling) / 2.0, axis=1)"
   ]
  },
  {
   "cell_type": "code",
   "execution_count": null,
   "metadata": {},
   "outputs": [],
   "source": [
    "combos['DriftMastery'] = combos.apply(lambda r: (r.AverageHandling + r.Traction + r.MiniTurbo) / 3.0, axis=1)"
   ]
  },
  {
   "cell_type": "code",
   "execution_count": null,
   "metadata": {},
   "outputs": [],
   "source": [
    "combos['CollisionMastery'] = combos.apply(lambda r: (r.Weight + r.GroundHandling) / 2.0, axis=1)"
   ]
  },
  {
   "cell_type": "code",
   "execution_count": null,
   "metadata": {},
   "outputs": [],
   "source": [
    "combos.to_csv('output/COMBOS_EXTRA.csv')"
   ]
  },
  {
   "cell_type": "code",
   "execution_count": null,
   "metadata": {},
   "outputs": [],
   "source": []
  }
 ],
 "metadata": {
  "kernelspec": {
   "display_name": "Python 3",
   "language": "python",
   "name": "python3"
  },
  "language_info": {
   "codemirror_mode": {
    "name": "ipython",
    "version": 3
   },
   "file_extension": ".py",
   "mimetype": "text/x-python",
   "name": "python",
   "nbconvert_exporter": "python",
   "pygments_lexer": "ipython3",
   "version": "3.5.2"
  }
 },
 "nbformat": 4,
 "nbformat_minor": 2
}
