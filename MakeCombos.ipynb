{
 "cells": [
  {
   "cell_type": "code",
   "execution_count": null,
   "metadata": {},
   "outputs": [],
   "source": [
    "import pandas"
   ]
  },
  {
   "cell_type": "code",
   "execution_count": null,
   "metadata": {},
   "outputs": [],
   "source": [
    "drivers = pandas.read_csv('src-data/DRIVERS.csv', index_col=0)\n",
    "vehicles = pandas.read_csv('src-data/VEHICLES.csv', index_col=0)\n",
    "tires = pandas.read_csv('src-data/TIRES.csv', index_col=0)\n",
    "gliders = pandas.read_csv('src-data/GLIDERS.csv', index_col=0)"
   ]
  },
  {
   "cell_type": "code",
   "execution_count": null,
   "metadata": {},
   "outputs": [],
   "source": [
    "stats = ['GroundSpeed', 'WaterSpeed', 'AirSpeed', 'AntiGravitySpeed', 'Acceleration', 'Weight', 'GroundHandling', 'WaterHandling', 'AirHandling', 'AntiGravityHandling', 'Traction', 'MiniTurbo']"
   ]
  },
  {
   "cell_type": "code",
   "execution_count": null,
   "metadata": {},
   "outputs": [],
   "source": [
    "combos = []"
   ]
  },
  {
   "cell_type": "code",
   "execution_count": null,
   "metadata": {},
   "outputs": [],
   "source": [
    "count = 0\n",
    "\n",
    "for i in drivers.iterrows():\n",
    "    \n",
    "    driver = i[1]\n",
    "    print(driver.Driver)\n",
    "    \n",
    "    for j in vehicles.iterrows():\n",
    "        \n",
    "        vehicle = j[1]\n",
    "        \n",
    "        for k in tires.iterrows():\n",
    "            \n",
    "            tire = k[1]\n",
    "                     \n",
    "            for l in gliders.iterrows():\n",
    "                \n",
    "                glider = l[1]\n",
    "                \n",
    "                new_combo = {\n",
    "                    'Driver': driver.Driver,\n",
    "                    'Vehicle': vehicle.Vehicle,\n",
    "                    'Tire': tire.Tire,\n",
    "                    'Glider': glider.Glider\n",
    "                }\n",
    "                \n",
    "                for stat in stats:\n",
    "                    new_combo[stat] = driver[stat] + vehicle[stat] + tire[stat] + glider[stat]\n",
    "                \n",
    "                combos.append(new_combo)\n",
    "                \n"
   ]
  },
  {
   "cell_type": "code",
   "execution_count": null,
   "metadata": {},
   "outputs": [],
   "source": [
    "combo_df = pandas.DataFrame(combos)"
   ]
  },
  {
   "cell_type": "code",
   "execution_count": null,
   "metadata": {},
   "outputs": [],
   "source": [
    "combo_df.to_csv('output/COMBOS.csv')"
   ]
  }
 ],
 "metadata": {
  "kernelspec": {
   "display_name": "Python 3",
   "language": "python",
   "name": "python3"
  },
  "language_info": {
   "codemirror_mode": {
    "name": "ipython",
    "version": 3
   },
   "file_extension": ".py",
   "mimetype": "text/x-python",
   "name": "python",
   "nbconvert_exporter": "python",
   "pygments_lexer": "ipython3",
   "version": "3.5.2"
  }
 },
 "nbformat": 4,
 "nbformat_minor": 2
}
