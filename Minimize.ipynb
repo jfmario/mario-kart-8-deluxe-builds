{
 "cells": [
  {
   "cell_type": "code",
   "execution_count": null,
   "metadata": {},
   "outputs": [],
   "source": [
    "import pandas"
   ]
  },
  {
   "cell_type": "code",
   "execution_count": null,
   "metadata": {},
   "outputs": [],
   "source": [
    "combos = pandas.read_csv('output/COMBOS_EXTRA.csv', index_col=0)"
   ]
  },
  {
   "cell_type": "code",
   "execution_count": null,
   "metadata": {},
   "outputs": [],
   "source": [
    "FAVORITE_DRIVERS = [\n",
    "    'Baby Daisy', 'Baby Rosalina', 'Dry Bones', 'Koopa Troopa', 'Isabelle', 'Shy Guy',\n",
    "    'Cat Peach', 'Yoshi', 'Tanooki Mario', 'Luigi', 'Mario', 'Metal Mario',\n",
    "    'King Boo', 'Donkey Kong', 'Dry Bowser', 'Bowser'\n",
    "]\n",
    "\n",
    "def driver_filter(row):\n",
    "    if row.Driver in FAVORITE_DRIVERS:\n",
    "        return True\n",
    "    else:\n",
    "        return False"
   ]
  },
  {
   "cell_type": "code",
   "execution_count": null,
   "metadata": {},
   "outputs": [],
   "source": [
    "best_drivers = combos[combos.apply(driver_filter, axis=1)]"
   ]
  },
  {
   "cell_type": "code",
   "execution_count": null,
   "metadata": {},
   "outputs": [],
   "source": [
    "data_columns = list(best_drivers.columns)[4:]"
   ]
  },
  {
   "cell_type": "code",
   "execution_count": null,
   "metadata": {},
   "outputs": [],
   "source": [
    "groups = best_drivers.groupby(data_columns)"
   ]
  },
  {
   "cell_type": "code",
   "execution_count": null,
   "metadata": {},
   "outputs": [],
   "source": [
    "selections = []"
   ]
  },
  {
   "cell_type": "code",
   "execution_count": null,
   "metadata": {},
   "outputs": [],
   "source": [
    "for i in groups:\n",
    "    selections.append(i[1].sample())"
   ]
  },
  {
   "cell_type": "code",
   "execution_count": null,
   "metadata": {},
   "outputs": [],
   "source": [
    "limited = pandas.concat(selections).reset_index()"
   ]
  },
  {
   "cell_type": "code",
   "execution_count": null,
   "metadata": {},
   "outputs": [],
   "source": [
    "winners = []"
   ]
  },
  {
   "cell_type": "code",
   "execution_count": null,
   "metadata": {},
   "outputs": [],
   "source": [
    "for cname in data_columns:\n",
    "    \n",
    "    sorted_df = limited.sort_values(by=cname, ascending=False).reset_index()\n",
    "    best_row = sorted_df.loc[0]\n",
    "    \n",
    "    winner = {\n",
    "        'Stat': cname,\n",
    "        'Driver': best_row.Driver,\n",
    "        'Vehicle': best_row.Vehicle,\n",
    "        'Tire': best_row.Tire,\n",
    "        'Glider': best_row.Glider,\n",
    "        'Value': best_row[cname]\n",
    "    }\n",
    "    winners.append(winner)"
   ]
  },
  {
   "cell_type": "code",
   "execution_count": null,
   "metadata": {},
   "outputs": [],
   "source": [
    "best_df = pandas.DataFrame(winners)"
   ]
  },
  {
   "cell_type": "code",
   "execution_count": null,
   "metadata": {},
   "outputs": [],
   "source": [
    "best_df = best_df[['Stat', 'Driver', 'Vehicle', 'Tire', 'Glider', 'Value']]\n",
    "best_df"
   ]
  },
  {
   "cell_type": "code",
   "execution_count": null,
   "metadata": {},
   "outputs": [],
   "source": [
    "limited.to_csv('output/MINIFIED.csv')"
   ]
  },
  {
   "cell_type": "code",
   "execution_count": null,
   "metadata": {},
   "outputs": [],
   "source": [
    "best_df.to_csv('output/WINNERS.csv')"
   ]
  }
 ],
 "metadata": {
  "kernelspec": {
   "display_name": "Python 3",
   "language": "python",
   "name": "python3"
  },
  "language_info": {
   "codemirror_mode": {
    "name": "ipython",
    "version": 3
   },
   "file_extension": ".py",
   "mimetype": "text/x-python",
   "name": "python",
   "nbconvert_exporter": "python",
   "pygments_lexer": "ipython3",
   "version": "3.5.2"
  }
 },
 "nbformat": 4,
 "nbformat_minor": 2
}
