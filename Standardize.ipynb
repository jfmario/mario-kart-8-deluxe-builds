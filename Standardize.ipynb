{
 "cells": [
  {
   "cell_type": "code",
   "execution_count": 1,
   "metadata": {},
   "outputs": [],
   "source": [
    "import pandas"
   ]
  },
  {
   "cell_type": "code",
   "execution_count": 2,
   "metadata": {},
   "outputs": [],
   "source": [
    "drivers = pandas.read_csv('src-data/DRIVERS.csv')\n",
    "driver_columns = list(drivers.columns)[2:]\n",
    "driver_groups = drivers.groupby(driver_columns)\n",
    "driver_groups_indexes = list(driver_groups.groups.values())\n",
    "\n",
    "driver_group_names = []\n",
    "for driver_groups_index in driver_groups_indexes:\n",
    "    driver_group_names.append(drivers.loc[driver_groups_index.tolist(), 'Driver'].tolist())"
   ]
  },
  {
   "cell_type": "code",
   "execution_count": 3,
   "metadata": {},
   "outputs": [],
   "source": [
    "vehicles = pandas.read_csv('src-data/VEHICLES.csv')\n",
    "vehicle_columns = list(vehicles.columns)[2:]\n",
    "vehicle_groups = vehicles.groupby(vehicle_columns)\n",
    "vehicle_groups_indexes = list(vehicle_groups.groups.values())\n",
    "\n",
    "vehicle_group_names = []\n",
    "for vehicle_groups_index in vehicle_groups_indexes:\n",
    "    vehicle_group_names.append(vehicles.loc[vehicle_groups_index.tolist(), 'Vehicle'].tolist())\n",
    "    \n",
    "def standardize_vehicle(column):\n",
    "    if column.name == \"Vehicle\":\n",
    "        new_column = []\n",
    "        for entry in column:\n",
    "            found = False\n",
    "            for group in vehicle_group_names:\n",
    "                if entry in group:\n",
    "                    found = True\n",
    "                    new_column.append(group[0])\n",
    "            if not found:\n",
    "                #this \n",
    "                new_column.append(entry)\n",
    "        return new_column\n",
    "    return column"
   ]
  },
  {
   "cell_type": "code",
   "execution_count": 4,
   "metadata": {},
   "outputs": [],
   "source": [
    "tires = pandas.read_csv('src-data/TIRES.csv')\n",
    "tire_columns = list(tires.columns)[2:]\n",
    "tire_groups = tires.groupby(tire_columns)\n",
    "tire_groups_indexes = list(tire_groups.groups.values())\n",
    "\n",
    "tire_group_names = []\n",
    "for tire_groups_index in tire_groups_indexes:\n",
    "    tire_group_names.append(tires.loc[tire_groups_index.tolist(), 'Tire'].tolist())\n",
    "    \n",
    "def standardize_tire(column):\n",
    "    if column.name == \"Tire\":\n",
    "        new_column = []\n",
    "        for entry in column:\n",
    "            found = False\n",
    "            for group in tire_group_names:\n",
    "                if entry in group:\n",
    "                    found = True\n",
    "                    new_column.append(group[0])\n",
    "            if not found:\n",
    "                print('Tire not found in list: ' + entry)\n",
    "                new_column.append(entry)\n",
    "        return new_column\n",
    "    return column"
   ]
  },
  {
   "cell_type": "code",
   "execution_count": 5,
   "metadata": {},
   "outputs": [],
   "source": [
    "gliders = pandas.read_csv('src-data/GLIDERS.csv')\n",
    "glider_columns = list(gliders.columns)[2:]\n",
    "glider_groups = gliders.groupby(glider_columns)\n",
    "glider_groups_indexes = list(glider_groups.groups.values())\n",
    "\n",
    "glider_group_names = []\n",
    "for glider_groups_index in glider_groups_indexes:\n",
    "    glider_group_names.append(gliders.loc[glider_groups_index.tolist(), 'Glider'].tolist())\n",
    "\n",
    "def standardize_glider(column):\n",
    "    if column.name == \"Glider\":\n",
    "        new_column = []\n",
    "        for entry in column:\n",
    "            found = False\n",
    "            for group in glider_group_names:\n",
    "                if entry in group:\n",
    "                    found = True\n",
    "                    new_column.append(group[0])\n",
    "            if not found:\n",
    "                print('Glider not found in list: ' + entry)\n",
    "                new_column.append(entry)\n",
    "        return new_column\n",
    "    return column"
   ]
  },
  {
   "cell_type": "code",
   "execution_count": 6,
   "metadata": {},
   "outputs": [],
   "source": [
    "minified = pandas.read_csv('output/MINIFIED.csv', index_col=0)"
   ]
  },
  {
   "cell_type": "code",
   "execution_count": 7,
   "metadata": {},
   "outputs": [],
   "source": [
    "standardized_minified = minified.apply(standardize_vehicle).apply(standardize_tire).apply(standardize_glider)"
   ]
  },
  {
   "cell_type": "code",
   "execution_count": 8,
   "metadata": {},
   "outputs": [],
   "source": [
    "winners = pandas.read_csv('output/WINNERS.csv', index_col=0)"
   ]
  },
  {
   "cell_type": "code",
   "execution_count": 9,
   "metadata": {},
   "outputs": [],
   "source": [
    "standardized_winners = winners.apply(standardize_vehicle).apply(standardize_tire).apply(standardize_glider)"
   ]
  },
  {
   "cell_type": "code",
   "execution_count": 10,
   "metadata": {},
   "outputs": [],
   "source": [
    "standardized_minified.to_csv('output/MINIFIED_STANDARDIZED.csv')"
   ]
  },
  {
   "cell_type": "code",
   "execution_count": 11,
   "metadata": {},
   "outputs": [],
   "source": [
    "standardized_winners.to_csv('output/WINNERS_STANDARDIZED.csv')"
   ]
  },
  {
   "cell_type": "code",
   "execution_count": 12,
   "metadata": {},
   "outputs": [],
   "source": [
    "driver_equivalencies = \"Drivers: \\n\" \n",
    "for group_name in driver_group_names:\n",
    "        group_output = group_name[0] \n",
    "        for name in group_name[1:]:\n",
    "                group_output += \" = \" + name\n",
    "        driver_equivalencies += group_output + \"\\n\""
   ]
  },
  {
   "cell_type": "code",
   "execution_count": 13,
   "metadata": {},
   "outputs": [],
   "source": [
    "vehicle_equivalencies = \"Vehicles: \\n\" \n",
    "for group_name in vehicle_group_names:\n",
    "        group_output = group_name[0] \n",
    "        for name in group_name[1:]:\n",
    "                group_output += \" = \" + name\n",
    "        vehicle_equivalencies += group_output + \"\\n\""
   ]
  },
  {
   "cell_type": "code",
   "execution_count": 14,
   "metadata": {},
   "outputs": [],
   "source": [
    "tire_equivalencies = \"Tires: \\n\"\n",
    "for group_name in tire_group_names:\n",
    "        group_output = group_name[0] \n",
    "        for name in group_name[1:]:\n",
    "                group_output += \" = \" + name\n",
    "        tire_equivalencies += group_output + \"\\n\""
   ]
  },
  {
   "cell_type": "code",
   "execution_count": 15,
   "metadata": {},
   "outputs": [],
   "source": [
    "glider_equivalencies = \"Gliders: \\n\"\n",
    "for group_name in glider_group_names:\n",
    "        group_output = group_name[0] \n",
    "        for name in group_name[1:]:\n",
    "                group_output += \" = \" + name\n",
    "        glider_equivalencies += group_output + \"\\n\""
   ]
  },
  {
   "cell_type": "code",
   "execution_count": 16,
   "metadata": {},
   "outputs": [],
   "source": [
    "equivalencies = driver_equivalencies + \"\\n\" + vehicle_equivalencies + \"\\n\" + tire_equivalencies + \"\\n\" + glider_equivalencies\n",
    "with open(\"output/OPTION_EQUIVALENCIES.txt\", \"w\") as f:\n",
    "    f.write(equivalencies)"
   ]
  }
 ],
 "metadata": {
  "kernelspec": {
   "display_name": "Python 3",
   "language": "python",
   "name": "python3"
  },
  "language_info": {
   "codemirror_mode": {
    "name": "ipython",
    "version": 3
   },
   "file_extension": ".py",
   "mimetype": "text/x-python",
   "name": "python",
   "nbconvert_exporter": "python",
   "pygments_lexer": "ipython3",
   "version": "3.6.3"
  }
 },
 "nbformat": 4,
 "nbformat_minor": 2
}
